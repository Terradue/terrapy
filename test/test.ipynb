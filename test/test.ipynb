{
 "cells": [
  {
   "cell_type": "code",
   "execution_count": 1,
   "metadata": {},
   "outputs": [
    {
     "name": "stdout",
     "output_type": "stream",
     "text": [
      "https://iam.terradue.test:8443/auth/realms/master/protocol/openid-connect/auth?response_type=code&client_id=public&redirect_uri=http%3A%2F%2Flocalhost%3A8888%2Fterrapi%2F&scope=openid+email+profile+offline_access+biosdev&state=NcGznyUmXbAWS0AkONFQYe7iqEsNHL&code_challenge=KtfkMlt3916nzS3FaImrM_DGvbZCZI3D5_zOAbMTxQ8&code_challenge_method=S256\n"
     ]
    },
    {
     "name": "stderr",
     "output_type": "stream",
     "text": [
      "/home/emathot/Workspace/Terradue/Components/air/terrapi-cli/.venv/lib/python3.11/site-packages/urllib3/connectionpool.py:1100: InsecureRequestWarning: Unverified HTTPS request is being made to host 'iam.terradue.test'. Adding certificate verification is strongly advised. See: https://urllib3.readthedocs.io/en/latest/advanced-usage.html#tls-warnings\n",
      "  warnings.warn(\n"
     ]
    }
   ],
   "source": [
    "from IPython.display import JSON\n",
    "from authlib.jose import jwt\n",
    "import requests\n",
    "import sys, os\n",
    "sys.path.append('../')\n",
    "\n",
    "# First request an access token from keycloak using the client credentials flow\n",
    "# and use the access token to create an authenticated client\n",
    "# the client will automatically refresh the token when it expires\n",
    "\n",
    "from authlib.oidc.discovery import well_known, OpenIDProviderMetadata\n",
    "# t2_oidc_dicovery_url = well_known.get_well_known_url('http://iam-dev.terradue.com/realms/master', external=True)\n",
    "t2_oidc_dicovery_url = well_known.get_well_known_url('https://iam.terradue.test:8443/auth/realms/master', external=True)\n",
    "t2_oidc_dicovery = OpenIDProviderMetadata(requests.get(t2_oidc_dicovery_url, verify=False).json())\n",
    "\n",
    "# We will use the public client of Terradue IAM\n",
    "client_id = 'public'\n",
    "# please adjust the scopes to the platform you are accessing (e.g. gep, ellip, etc.)\n",
    "scope = 'openid email profile offline_access biosdev'\n",
    "\n",
    "# using requests implementation\n",
    "from authlib.integrations.requests_client import OAuth2Session\n",
    "from authlib.common.security import generate_token\n",
    "client = OAuth2Session(client_id, scope=scope, code_challenge_method='S256')\n",
    "code_verifier = generate_token(48)\n",
    "redirect_uri='http://localhost:8888/terrapi/'\n",
    "\n",
    "authorization_endpoint = t2_oidc_dicovery['authorization_endpoint']\n",
    "uri, state = client.create_authorization_url(authorization_endpoint, redirect_uri=redirect_uri, code_verifier=code_verifier)\n",
    "print(uri)"
   ]
  },
  {
   "cell_type": "code",
   "execution_count": 2,
   "metadata": {},
   "outputs": [
    {
     "name": "stderr",
     "output_type": "stream",
     "text": [
      "/home/emathot/Workspace/Terradue/Components/air/terrapi-cli/.venv/lib/python3.11/site-packages/urllib3/connectionpool.py:1100: InsecureRequestWarning: Unverified HTTPS request is being made to host 'iam.terradue.test'. Adding certificate verification is strongly advised. See: https://urllib3.readthedocs.io/en/latest/advanced-usage.html#tls-warnings\n",
      "  warnings.warn(\n"
     ]
    },
    {
     "data": {
      "application/json": {
       "access_token": "eyJhbGciOiJSUzI1NiIsInR5cCIgOiAiSldUIiwia2lkIiA6ICIyaVZsVXlnbjFfcXMxd1RqOTViSXVMNGVwVUIwRDJqdWd4dVdyMnRadE5rIn0.eyJleHAiOjE3MDgzNDA1MjQsImlhdCI6MTcwODMzOTYyNCwiYXV0aF90aW1lIjoxNzA4MzM2NzYxLCJqdGkiOiIxMTg2N2JhMy02NjQyLTQ0YjEtOGE3Mi00NjgxZGM5NTNjNTkiLCJpc3MiOiJodHRwczovL2lhbS50ZXJyYWR1ZS50ZXN0Ojg0NDMvYXV0aC9yZWFsbXMvbWFzdGVyIiwiYXVkIjpbImJpb3NkZXYtYXBpIiwiYmlvc2Rldi1taW5pbyIsImFjY291bnQiXSwic3ViIjoiOTA1MjRiMTgtYjNmNC00ZDY1LTg5OWEtMzNmNDM0Mjg1MWY3IiwidHlwIjoiQmVhcmVyIiwiYXpwIjoicHVibGljIiwic2Vzc2lvbl9zdGF0ZSI6IjA3OWI1OTEzLTM0NTgtNGUwNS05MWI3LWJmNTZkNDNlYTgxMCIsImFjciI6IjAiLCJhbGxvd2VkLW9yaWdpbnMiOlsiaHR0cHM6Ly9sb2NhbGhvc3Q6NTAxMSJdLCJzY29wZSI6Im9wZW5pZCBvZmZsaW5lX2FjY2VzcyBiaW9zZGV2IHByb2ZpbGUgZW1haWwiLCJzaWQiOiIwNzliNTkxMy0zNDU4LTRlMDUtOTFiNy1iZjU2ZDQzZWE4MTAiLCJlbWFpbF92ZXJpZmllZCI6dHJ1ZSwibWluaW9fcG9saWN5IjpbInRlc3R1c2VyLm93bmVyLmZyb20taWFtIl0sInByZWZlcnJlZF91c2VybmFtZSI6InRlc3R1c2VyIiwicGxhdGZvcm1zIjp7ImJpb3NkZXYiOnsiaWQiOiJiaW9zZGV2In19fQ.MhybJgUj5VbzYfad4ooiM6itAQI1P6cSD_XGdACgLL8HjwT23knCSns0Dg9ho644yHsQYIKcndXGp3mEbXjwcAGVeZ4I433T7Y-yE7UAiGatnbaoNK3IUXVYrssC11iDdzMqloX8GE1nRCCI6R604n7He05g0_S-eNCWrcSJsC1LkT58Z10FWCFGdE53gL0xQHbRFRcJ7Ktddw27o3K1Mgw8GUkoQumZrvs2yaNL3ZOXy9Uobm92HJYQYEEHtsWfjkFDeDzO6NtOdaDNxSyf24l2ehLu8IxOarL8dKnr3M_1J57r8-oQr7mHfz243F7oqxCBDvDQfIddVsElVHKxsQ",
       "expires_at": 1708340524,
       "expires_in": 900,
       "id_token": "eyJhbGciOiJSUzI1NiIsInR5cCIgOiAiSldUIiwia2lkIiA6ICIyaVZsVXlnbjFfcXMxd1RqOTViSXVMNGVwVUIwRDJqdWd4dVdyMnRadE5rIn0.eyJleHAiOjE3MDgzNDA1MjQsImlhdCI6MTcwODMzOTYyNCwiYXV0aF90aW1lIjoxNzA4MzM2NzYxLCJqdGkiOiJiN2E5NjY4ZS1mNTVjLTRkNDMtOGIxMC04OGYzNThiYzY5YjgiLCJpc3MiOiJodHRwczovL2lhbS50ZXJyYWR1ZS50ZXN0Ojg0NDMvYXV0aC9yZWFsbXMvbWFzdGVyIiwiYXVkIjoicHVibGljIiwic3ViIjoiOTA1MjRiMTgtYjNmNC00ZDY1LTg5OWEtMzNmNDM0Mjg1MWY3IiwidHlwIjoiSUQiLCJhenAiOiJwdWJsaWMiLCJzZXNzaW9uX3N0YXRlIjoiMDc5YjU5MTMtMzQ1OC00ZTA1LTkxYjctYmY1NmQ0M2VhODEwIiwiYXRfaGFzaCI6IkVtSnRWWDlKb3R0SERCTGJhYTVvRmciLCJhY3IiOiIwIiwic2lkIjoiMDc5YjU5MTMtMzQ1OC00ZTA1LTkxYjctYmY1NmQ0M2VhODEwIiwiZW1haWxfdmVyaWZpZWQiOnRydWUsIm1pbmlvX3BvbGljeSI6WyJ0ZXN0dXNlci5vd25lci5mcm9tLWlhbSJdLCJwcmVmZXJyZWRfdXNlcm5hbWUiOiJ0ZXN0dXNlciIsInBsYXRmb3JtcyI6eyJiaW9zZGV2Ijp7ImlkIjoiYmlvc2RldiJ9fX0.fz0hrBPZzJVLFxbZQO6O2cH7J34I81QqzkoNPtIrCLHERU-g97DzbK0nE7qDjyxmRWA3aNxCYSWLQA7z6LYLxa8rPK0SY9WWGOrE8dFJdzWEcZIX4Z0lJjcEKtwgiWyc20a3hN9qodQvbPHB1FQqVMy0uUcUCcmHhAjV_rsLNqzhXU8KB9J_C6aoGKWWipqlb7nNlzqJ7vggWuWZ30RXEWbRvn_gSRJCqBdAqWvUSYKy__sExAb0uxnrJdmNdtV4KXYd9esq93S6dBi-pmEosdPHrwdKJIeBGzXY6CLzHdjho5BV7-kiWLHqRWapOqYvt5hvMAeNLqTMnhFRft0v-g",
       "not-before-policy": 0,
       "platforms": {
        "biosdev": {
         "id": "biosdev"
        }
       },
       "refresh_expires_in": 0,
       "refresh_token": "eyJhbGciOiJIUzI1NiIsInR5cCIgOiAiSldUIiwia2lkIiA6ICJiZTQ0YTQ3OS05MjI3LTQxNDAtYTZiZS1lZjMxOTJkZDNiMTYifQ.eyJpYXQiOjE3MDgzMzk2MjQsImp0aSI6IjQzZGFjMDAwLTMxYTEtNDk4MS1hOTZmLTU4MGVkYzQ2ODI5ZSIsImlzcyI6Imh0dHBzOi8vaWFtLnRlcnJhZHVlLnRlc3Q6ODQ0My9hdXRoL3JlYWxtcy9tYXN0ZXIiLCJhdWQiOiJodHRwczovL2lhbS50ZXJyYWR1ZS50ZXN0Ojg0NDMvYXV0aC9yZWFsbXMvbWFzdGVyIiwic3ViIjoiOTA1MjRiMTgtYjNmNC00ZDY1LTg5OWEtMzNmNDM0Mjg1MWY3IiwidHlwIjoiT2ZmbGluZSIsImF6cCI6InB1YmxpYyIsInNlc3Npb25fc3RhdGUiOiIwNzliNTkxMy0zNDU4LTRlMDUtOTFiNy1iZjU2ZDQzZWE4MTAiLCJzY29wZSI6Im9wZW5pZCBvZmZsaW5lX2FjY2VzcyBiaW9zZGV2IHByb2ZpbGUgZW1haWwiLCJzaWQiOiIwNzliNTkxMy0zNDU4LTRlMDUtOTFiNy1iZjU2ZDQzZWE4MTAifQ.x3EI31UK6QUa8ClHjj0m_ZfQu9VTfm9Y7hb-w0ucOWM",
       "scope": "openid offline_access biosdev profile email",
       "session_state": "079b5913-3458-4e05-91b7-bf56d43ea810",
       "token_type": "Bearer"
      },
      "text/plain": [
       "<IPython.core.display.JSON object>"
      ]
     },
     "execution_count": 2,
     "metadata": {
      "application/json": {
       "expanded": false,
       "root": "root"
      }
     },
     "output_type": "execute_result"
    }
   ],
   "source": [
    "authorization_response = input('Paste here the browser url')\n",
    "token_endpoint = t2_oidc_dicovery['token_endpoint']\n",
    "token = client.fetch_token(token_endpoint, authorization_response=authorization_response, redirect_uri=redirect_uri, code_verifier=code_verifier, verify=False)\n",
    "os.environ['ACCESS_TOKEN'] = token['access_token']\n",
    "JSON(token)"
   ]
  },
  {
   "cell_type": "code",
   "execution_count": 4,
   "metadata": {},
   "outputs": [
    {
     "name": "stderr",
     "output_type": "stream",
     "text": [
      "/home/emathot/Workspace/Terradue/Components/air/terrapi-cli/.venv/lib/python3.11/site-packages/urllib3/connectionpool.py:1100: InsecureRequestWarning: Unverified HTTPS request is being made to host 'localhost'. Adding certificate verification is strongly advised. See: https://urllib3.readthedocs.io/en/latest/advanced-usage.html#tls-warnings\n",
      "  warnings.warn(\n"
     ]
    },
    {
     "name": "stdout",
     "output_type": "stream",
     "text": [
      "The response of UserAPI:\n",
      "\n"
     ]
    },
    {
     "ename": "TypeError",
     "evalue": "Object of type datetime is not JSON serializable",
     "output_type": "error",
     "traceback": [
      "\u001b[0;31m---------------------------------------------------------------------------\u001b[0m",
      "\u001b[0;31mTypeError\u001b[0m                                 Traceback (most recent call last)",
      "Cell \u001b[0;32mIn[4], line 30\u001b[0m\n\u001b[1;32m     28\u001b[0m     api_response \u001b[38;5;241m=\u001b[39m api_instance\u001b[38;5;241m.\u001b[39mv2_user_info_get()\n\u001b[1;32m     29\u001b[0m     \u001b[38;5;28mprint\u001b[39m(\u001b[38;5;124m\"\u001b[39m\u001b[38;5;124mThe response of UserAPI:\u001b[39m\u001b[38;5;130;01m\\n\u001b[39;00m\u001b[38;5;124m\"\u001b[39m)\n\u001b[0;32m---> 30\u001b[0m     pprint(\u001b[43mapi_response\u001b[49m\u001b[38;5;241;43m.\u001b[39;49m\u001b[43mto_json\u001b[49m\u001b[43m(\u001b[49m\u001b[43m)\u001b[49m)\n\u001b[1;32m     31\u001b[0m \u001b[38;5;28;01mexcept\u001b[39;00m ApiException \u001b[38;5;28;01mas\u001b[39;00m e:\n\u001b[1;32m     32\u001b[0m     \u001b[38;5;28mprint\u001b[39m(\u001b[38;5;124m\"\u001b[39m\u001b[38;5;124mException when calling UserAPI: \u001b[39m\u001b[38;5;132;01m%s\u001b[39;00m\u001b[38;5;130;01m\\n\u001b[39;00m\u001b[38;5;124m\"\u001b[39m \u001b[38;5;241m%\u001b[39m e)\n",
      "File \u001b[0;32m~/Workspace/Terradue/Components/air/terrapi-cli/test/../openapi_client/models/principal_context.py:50\u001b[0m, in \u001b[0;36mPrincipalContext.to_json\u001b[0;34m(self)\u001b[0m\n\u001b[1;32m     48\u001b[0m \u001b[38;5;250m\u001b[39m\u001b[38;5;124;03m\"\"\"Returns the JSON representation of the model using alias\"\"\"\u001b[39;00m\n\u001b[1;32m     49\u001b[0m \u001b[38;5;66;03m# TODO: pydantic v2: use .model_dump_json(by_alias=True, exclude_unset=True) instead\u001b[39;00m\n\u001b[0;32m---> 50\u001b[0m \u001b[38;5;28;01mreturn\u001b[39;00m \u001b[43mjson\u001b[49m\u001b[38;5;241;43m.\u001b[39;49m\u001b[43mdumps\u001b[49m\u001b[43m(\u001b[49m\u001b[38;5;28;43mself\u001b[39;49m\u001b[38;5;241;43m.\u001b[39;49m\u001b[43mto_dict\u001b[49m\u001b[43m(\u001b[49m\u001b[43m)\u001b[49m\u001b[43m)\u001b[49m\n",
      "File \u001b[0;32m/usr/lib/python3.11/json/__init__.py:231\u001b[0m, in \u001b[0;36mdumps\u001b[0;34m(obj, skipkeys, ensure_ascii, check_circular, allow_nan, cls, indent, separators, default, sort_keys, **kw)\u001b[0m\n\u001b[1;32m    226\u001b[0m \u001b[38;5;66;03m# cached encoder\u001b[39;00m\n\u001b[1;32m    227\u001b[0m \u001b[38;5;28;01mif\u001b[39;00m (\u001b[38;5;129;01mnot\u001b[39;00m skipkeys \u001b[38;5;129;01mand\u001b[39;00m ensure_ascii \u001b[38;5;129;01mand\u001b[39;00m\n\u001b[1;32m    228\u001b[0m     check_circular \u001b[38;5;129;01mand\u001b[39;00m allow_nan \u001b[38;5;129;01mand\u001b[39;00m\n\u001b[1;32m    229\u001b[0m     \u001b[38;5;28mcls\u001b[39m \u001b[38;5;129;01mis\u001b[39;00m \u001b[38;5;28;01mNone\u001b[39;00m \u001b[38;5;129;01mand\u001b[39;00m indent \u001b[38;5;129;01mis\u001b[39;00m \u001b[38;5;28;01mNone\u001b[39;00m \u001b[38;5;129;01mand\u001b[39;00m separators \u001b[38;5;129;01mis\u001b[39;00m \u001b[38;5;28;01mNone\u001b[39;00m \u001b[38;5;129;01mand\u001b[39;00m\n\u001b[1;32m    230\u001b[0m     default \u001b[38;5;129;01mis\u001b[39;00m \u001b[38;5;28;01mNone\u001b[39;00m \u001b[38;5;129;01mand\u001b[39;00m \u001b[38;5;129;01mnot\u001b[39;00m sort_keys \u001b[38;5;129;01mand\u001b[39;00m \u001b[38;5;129;01mnot\u001b[39;00m kw):\n\u001b[0;32m--> 231\u001b[0m     \u001b[38;5;28;01mreturn\u001b[39;00m \u001b[43m_default_encoder\u001b[49m\u001b[38;5;241;43m.\u001b[39;49m\u001b[43mencode\u001b[49m\u001b[43m(\u001b[49m\u001b[43mobj\u001b[49m\u001b[43m)\u001b[49m\n\u001b[1;32m    232\u001b[0m \u001b[38;5;28;01mif\u001b[39;00m \u001b[38;5;28mcls\u001b[39m \u001b[38;5;129;01mis\u001b[39;00m \u001b[38;5;28;01mNone\u001b[39;00m:\n\u001b[1;32m    233\u001b[0m     \u001b[38;5;28mcls\u001b[39m \u001b[38;5;241m=\u001b[39m JSONEncoder\n",
      "File \u001b[0;32m/usr/lib/python3.11/json/encoder.py:200\u001b[0m, in \u001b[0;36mJSONEncoder.encode\u001b[0;34m(self, o)\u001b[0m\n\u001b[1;32m    196\u001b[0m         \u001b[38;5;28;01mreturn\u001b[39;00m encode_basestring(o)\n\u001b[1;32m    197\u001b[0m \u001b[38;5;66;03m# This doesn't pass the iterator directly to ''.join() because the\u001b[39;00m\n\u001b[1;32m    198\u001b[0m \u001b[38;5;66;03m# exceptions aren't as detailed.  The list call should be roughly\u001b[39;00m\n\u001b[1;32m    199\u001b[0m \u001b[38;5;66;03m# equivalent to the PySequence_Fast that ''.join() would do.\u001b[39;00m\n\u001b[0;32m--> 200\u001b[0m chunks \u001b[38;5;241m=\u001b[39m \u001b[38;5;28;43mself\u001b[39;49m\u001b[38;5;241;43m.\u001b[39;49m\u001b[43miterencode\u001b[49m\u001b[43m(\u001b[49m\u001b[43mo\u001b[49m\u001b[43m,\u001b[49m\u001b[43m \u001b[49m\u001b[43m_one_shot\u001b[49m\u001b[38;5;241;43m=\u001b[39;49m\u001b[38;5;28;43;01mTrue\u001b[39;49;00m\u001b[43m)\u001b[49m\n\u001b[1;32m    201\u001b[0m \u001b[38;5;28;01mif\u001b[39;00m \u001b[38;5;129;01mnot\u001b[39;00m \u001b[38;5;28misinstance\u001b[39m(chunks, (\u001b[38;5;28mlist\u001b[39m, \u001b[38;5;28mtuple\u001b[39m)):\n\u001b[1;32m    202\u001b[0m     chunks \u001b[38;5;241m=\u001b[39m \u001b[38;5;28mlist\u001b[39m(chunks)\n",
      "File \u001b[0;32m/usr/lib/python3.11/json/encoder.py:258\u001b[0m, in \u001b[0;36mJSONEncoder.iterencode\u001b[0;34m(self, o, _one_shot)\u001b[0m\n\u001b[1;32m    253\u001b[0m \u001b[38;5;28;01melse\u001b[39;00m:\n\u001b[1;32m    254\u001b[0m     _iterencode \u001b[38;5;241m=\u001b[39m _make_iterencode(\n\u001b[1;32m    255\u001b[0m         markers, \u001b[38;5;28mself\u001b[39m\u001b[38;5;241m.\u001b[39mdefault, _encoder, \u001b[38;5;28mself\u001b[39m\u001b[38;5;241m.\u001b[39mindent, floatstr,\n\u001b[1;32m    256\u001b[0m         \u001b[38;5;28mself\u001b[39m\u001b[38;5;241m.\u001b[39mkey_separator, \u001b[38;5;28mself\u001b[39m\u001b[38;5;241m.\u001b[39mitem_separator, \u001b[38;5;28mself\u001b[39m\u001b[38;5;241m.\u001b[39msort_keys,\n\u001b[1;32m    257\u001b[0m         \u001b[38;5;28mself\u001b[39m\u001b[38;5;241m.\u001b[39mskipkeys, _one_shot)\n\u001b[0;32m--> 258\u001b[0m \u001b[38;5;28;01mreturn\u001b[39;00m \u001b[43m_iterencode\u001b[49m\u001b[43m(\u001b[49m\u001b[43mo\u001b[49m\u001b[43m,\u001b[49m\u001b[43m \u001b[49m\u001b[38;5;241;43m0\u001b[39;49m\u001b[43m)\u001b[49m\n",
      "File \u001b[0;32m/usr/lib/python3.11/json/encoder.py:180\u001b[0m, in \u001b[0;36mJSONEncoder.default\u001b[0;34m(self, o)\u001b[0m\n\u001b[1;32m    161\u001b[0m \u001b[38;5;28;01mdef\u001b[39;00m \u001b[38;5;21mdefault\u001b[39m(\u001b[38;5;28mself\u001b[39m, o):\n\u001b[1;32m    162\u001b[0m \u001b[38;5;250m    \u001b[39m\u001b[38;5;124;03m\"\"\"Implement this method in a subclass such that it returns\u001b[39;00m\n\u001b[1;32m    163\u001b[0m \u001b[38;5;124;03m    a serializable object for ``o``, or calls the base implementation\u001b[39;00m\n\u001b[1;32m    164\u001b[0m \u001b[38;5;124;03m    (to raise a ``TypeError``).\u001b[39;00m\n\u001b[0;32m   (...)\u001b[0m\n\u001b[1;32m    178\u001b[0m \n\u001b[1;32m    179\u001b[0m \u001b[38;5;124;03m    \"\"\"\u001b[39;00m\n\u001b[0;32m--> 180\u001b[0m     \u001b[38;5;28;01mraise\u001b[39;00m \u001b[38;5;167;01mTypeError\u001b[39;00m(\u001b[38;5;124mf\u001b[39m\u001b[38;5;124m'\u001b[39m\u001b[38;5;124mObject of type \u001b[39m\u001b[38;5;132;01m{\u001b[39;00mo\u001b[38;5;241m.\u001b[39m\u001b[38;5;18m__class__\u001b[39m\u001b[38;5;241m.\u001b[39m\u001b[38;5;18m__name__\u001b[39m\u001b[38;5;132;01m}\u001b[39;00m\u001b[38;5;124m \u001b[39m\u001b[38;5;124m'\u001b[39m\n\u001b[1;32m    181\u001b[0m                     \u001b[38;5;124mf\u001b[39m\u001b[38;5;124m'\u001b[39m\u001b[38;5;124mis not JSON serializable\u001b[39m\u001b[38;5;124m'\u001b[39m)\n",
      "\u001b[0;31mTypeError\u001b[0m: Object of type datetime is not JSON serializable"
     ]
    }
   ],
   "source": [
    "import openapi_client\n",
    "from openapi_client.rest import ApiException\n",
    "from pprint import pprint\n",
    "\n",
    "# Defining the host is optional and defaults to https://localhost:5011/core\n",
    "# See configuration.py for a list of all supported configuration parameters.\n",
    "configuration = openapi_client.Configuration(\n",
    "    host = \"https://localhost:5011/core\"\n",
    ")\n",
    "configuration.verify_ssl = False\n",
    "\n",
    "# The client must configure the authentication and authorization parameters\n",
    "# in accordance with the API server security policy.\n",
    "# Examples for each auth method are provided below, use the example that\n",
    "# satisfies your auth use case.\n",
    "\n",
    "configuration.access_token = os.environ[\"ACCESS_TOKEN\"]\n",
    "\n",
    "\n",
    "# Enter a context with an instance of the API client\n",
    "with openapi_client.ApiClient(configuration) as api_client:\n",
    "    # Create an instance of the API class\n",
    "    api_instance = openapi_client.UserApi(api_client)\n",
    "    job_id = 'job_id_example' # str | \n",
    "\n",
    "    try:\n",
    "        # Get the user information\n",
    "        api_response = api_instance.v2_user_info_get()\n",
    "        print(\"The response of UserAPI:\\n\")\n",
    "        pprint(api_response)\n",
    "    except ApiException as e:\n",
    "        print(\"Exception when calling UserAPI: %s\\n\" % e)\n"
   ]
  },
  {
   "cell_type": "code",
   "execution_count": 9,
   "metadata": {},
   "outputs": [
    {
     "name": "stderr",
     "output_type": "stream",
     "text": [
      "/home/emathot/Workspace/Terradue/Components/air/terrapi-cli/.venv/lib/python3.11/site-packages/urllib3/connectionpool.py:1100: InsecureRequestWarning: Unverified HTTPS request is being made to host 'localhost'. Adding certificate verification is strongly advised. See: https://urllib3.readthedocs.io/en/latest/advanced-usage.html#tls-warnings\n",
      "  warnings.warn(\n"
     ]
    },
    {
     "name": "stdout",
     "output_type": "stream",
     "text": [
      "The response of StorageApi:\n",
      "\n",
      "[IWorkspace(storage_type=<StorageType.S3: 'S3'>, storage_point_uri=None, service_uri=None, initialized=None, remote_id=None, resource_server=None, owner='testuser', type=<AuthResourceType.URN_COLON_RESOURCE_COLON_STORAGE_COLON_WORKSPACE: 'urn:resource:storage:workspace'>, status=IResourceStatus(status_code=<ResourceStatusCode.OK: 'OK'>, message='From Authorization Resource'), resource_uris=['s3://biosdev-users/testuser/', 'http://localhost/v2/storage/workspaces/biosdev-testuser-private-workspace'], scopes=['s3:GetObject', 's3:PutObject', 's3:ListBucket', 's3:DeleteObject', 's3:GetBucketLocation'], properties={'storage_type': ['S3'], 'platform_id': ['biosdev'], 'service_url': ['https://minio.terradue.test:9000'], 'storage_url': ['s3://biosdev-users/testuser/']}, platform_id=None, name='biosdev-testuser-private-workspace', var_self='https://localhost:5011/core/v2/storage/workspaces/biosdev-testuser-private-workspace', background_job_id=None)]\n"
     ]
    }
   ],
   "source": [
    "# Defining the host is optional and defaults to https://localhost:5011/core\n",
    "# See configuration.py for a list of all supported configuration parameters.\n",
    "configuration = openapi_client.Configuration(\n",
    "    host = \"https://localhost:5011/core\"\n",
    ")\n",
    "configuration.verify_ssl = False\n",
    "\n",
    "# The client must configure the authentication and authorization parameters\n",
    "# in accordance with the API server security policy.\n",
    "# Examples for each auth method are provided below, use the example that\n",
    "# satisfies your auth use case.\n",
    "\n",
    "configuration.access_token = os.environ[\"ACCESS_TOKEN\"]\n",
    "\n",
    "\n",
    "# Enter a context with an instance of the API client\n",
    "with openapi_client.ApiClient(configuration) as api_client:\n",
    "    # Create an instance of the API class\n",
    "    api_instance = openapi_client.StorageApi(api_client)\n",
    "\n",
    "    try:\n",
    "        # Get the storage information\n",
    "        api_response = api_instance.get_workspaces()\n",
    "        print(\"The response of StorageApi:\\n\")\n",
    "        pprint(api_response)\n",
    "    except ApiException as e:\n",
    "        print(\"Exception when calling StorageApi: %s\\n\" % e)"
   ]
  },
  {
   "cell_type": "code",
   "execution_count": null,
   "metadata": {},
   "outputs": [],
   "source": []
  }
 ],
 "metadata": {
  "kernelspec": {
   "display_name": ".venv",
   "language": "python",
   "name": "python3"
  },
  "language_info": {
   "codemirror_mode": {
    "name": "ipython",
    "version": 3
   },
   "file_extension": ".py",
   "mimetype": "text/x-python",
   "name": "python",
   "nbconvert_exporter": "python",
   "pygments_lexer": "ipython3",
   "version": "3.11.6"
  }
 },
 "nbformat": 4,
 "nbformat_minor": 2
}
