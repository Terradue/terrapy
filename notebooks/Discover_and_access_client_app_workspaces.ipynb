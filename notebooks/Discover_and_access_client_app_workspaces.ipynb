{
 "cells": [
  {
   "cell_type": "markdown",
   "metadata": {},
   "source": [
    "# Discover and access client app workspaces\n",
    "\n",
    "This notebook is intended for development and testing purpose only. It shall allow you to discover the available workspaces and access them on behalf of a client application.\n",
    "\n",
    "The use case is an application that needs to access TerrAPI in order to upload data to a workspace from a client application.\n",
    "\n",
    "In this notebook, we will:\n",
    "- Authenticate with the API as the client app in order to get an access token\n",
    "- Get the user information from TerrAPI\n",
    "- List the workspaces of the user\n",
    "- Select a workspace and access it\n",
    "- Upload a file to the workspace\n",
    "- Get a download link for the file (signed url)"
   ]
  },
  {
   "cell_type": "code",
   "execution_count": 22,
   "metadata": {},
   "outputs": [],
   "source": [
    "#################################################\n",
    "# First Let's set up the environment\n",
    "iam_url = 'https://iam.terradue.com/realms/master'\n",
    "terrapi_url = 'https://api.terradue.com/core'\n",
    "platform_scopes = ['gep']  # list of platform scopes. See https://api.bios-dev.terradue.com/core/docs/platforms/ for more information\n",
    "\n",
    "# Set localdev to True if you are running the notebook to services running on your local machine (self-signed certificates)\n",
    "localdev = False\n",
    "#################################################\n",
    "\n",
    "import sys, os\n",
    "import pprint\n",
    "sys.path.append('../')\n",
    "import openapi_client\n",
    "from openapi_client.rest import ApiException\n",
    "\n",
    "configuration = openapi_client.Configuration(\n",
    "    host = terrapi_url\n",
    ")\n",
    "configuration.verify_ssl = not(localdev)\n"
   ]
  },
  {
   "cell_type": "markdown",
   "metadata": {},
   "source": [
    "## Authentication\n",
    "\n",
    "The following code will authenticate with the TerrAPI and get an access token. You can find more information in the [TerrAPI documentation](https://docs.terrapia.io/docs/authorization)."
   ]
  },
  {
   "cell_type": "code",
   "execution_count": 23,
   "metadata": {},
   "outputs": [
    {
     "name": "stdout",
     "output_type": "stream",
     "text": [
      "{   'access_token': 'eyJhbGciOiJSUzI1NiIsInR5cCIgOiAiSldUIiwia2lkIiA6ICJkbmp4eGIyZk0ybE9Tc1RfYS02enktMmNHRVo3SzN1aWYwX2pueGk3akk0In0.eyJleHAiOjE3MTg2MTM5OTEsImlhdCI6MTcxODYxMDM5MSwianRpIjoiZDQ2MGNmMTItYmU1Zi00MzljLWJkMWEtODAyOGQyM2FiNmYyIiwiaXNzIjoiaHR0cHM6Ly9pYW0udGVycmFkdWUuY29tL3JlYWxtcy9tYXN0ZXIiLCJhdWQiOlsiZ2VwLWJpb3MtbWluaW8iLCJlbGxpcC1iaW9zLWFwaSIsImFjY291bnQiXSwic3ViIjoiNWUxMmQwMTktYjNkYi00YWQ4LTk3OTctYTA5NmNjZjFiZWQ0IiwidHlwIjoiQmVhcmVyIiwiYXpwIjoiZ2VwLWVvc3QtYTJzLWhwYy1hcHAiLCJzZXNzaW9uX3N0YXRlIjoiNGRjNWQwNzItMGYxOC00MDQ3LThkMTEtZjM0Y2ExNWNjZmE0IiwiYWNyIjoiMSIsImFsbG93ZWQtb3JpZ2lucyI6WyIvKiJdLCJyZXNvdXJjZV9hY2Nlc3MiOnsiZ2VwLWJpb3MtbWluaW8iOnsicm9sZXMiOlsiczMtdXNlciJdfSwiZWxsaXAtYmlvcy1hcGkiOnsicm9sZXMiOlsiZ2VwLXVzZXIiXX0sImFjY291bnQiOnsicm9sZXMiOlsibWFuYWdlLWFjY291bnQiLCJtYW5hZ2UtYWNjb3VudC1saW5rcyIsInZpZXctcHJvZmlsZSJdfX0sInNjb3BlIjoib2ZmbGluZV9hY2Nlc3MgZ2VwIGVtYWlsIG9wZW5pZCBwcm9maWxlIiwic2lkIjoiNGRjNWQwNzItMGYxOC00MDQ3LThkMTEtZjM0Y2ExNWNjZmE0IiwiZW1haWxfdmVyaWZpZWQiOmZhbHNlLCJjbGllbnRIb3N0IjoiMTQ4LjI1MS4yMzQuMTk0IiwicHJlZmVycmVkX3VzZXJuYW1lIjoic2VydmljZS1hY2NvdW50LWdlcC1lb3N0LWEycy1ocGMtYXBwIiwiY2xpZW50QWRkcmVzcyI6IjE0OC4yNTEuMjM0LjE5NCIsImNsaWVudF9pZCI6ImdlcC1lb3N0LWEycy1ocGMtYXBwIiwicGxhdGZvcm1zIjp7ImdlcCI6eyJpZCI6ImdlcCJ9fX0.fMPCIpDDFwrqPGDf9YW5xfjxJu0n8aKW6kprmtZJ71iHMpbjwJEiCDEW-d9pWdobTfgBxq7gTrsyydiwaoCwE_0RhuGaNFGXAQk910kkt9Izi9yakppSFTDb5GYGitI6T8nzpQQo6-ThxeLw1PmkcxjAFgED4V_C0IapwDt_MhMHcxIbbr7AMLMkEUMi6GMUs6klilueFDA_9-FLYrGfOCgoodWeu-kq3mqThO4hO8gmwWRLnEpooqAFWDSoJAK1uY09721Ih-bEkJe3KIh2DkeIbuTEeFmm0MmWU4K3Ih4h5FTcI1T_ejlsda9gV3pemr__2n_SJAhcI4iNRecFLg',\n",
      "    'expires_at': 1718613991,\n",
      "    'expires_in': 3600,\n",
      "    'id_token': 'eyJhbGciOiJSUzI1NiIsInR5cCIgOiAiSldUIiwia2lkIiA6ICJkbmp4eGIyZk0ybE9Tc1RfYS02enktMmNHRVo3SzN1aWYwX2pueGk3akk0In0.eyJleHAiOjE3MTg2MTM5OTEsImlhdCI6MTcxODYxMDM5MSwiYXV0aF90aW1lIjowLCJqdGkiOiI1NTNkNGNmMi1mZmFjLTQ4NGMtODA3Yy1mNjc3NGZjYjJiMzciLCJpc3MiOiJodHRwczovL2lhbS50ZXJyYWR1ZS5jb20vcmVhbG1zL21hc3RlciIsImF1ZCI6ImdlcC1lb3N0LWEycy1ocGMtYXBwIiwic3ViIjoiNWUxMmQwMTktYjNkYi00YWQ4LTk3OTctYTA5NmNjZjFiZWQ0IiwidHlwIjoiSUQiLCJhenAiOiJnZXAtZW9zdC1hMnMtaHBjLWFwcCIsInNlc3Npb25fc3RhdGUiOiI0ZGM1ZDA3Mi0wZjE4LTQwNDctOGQxMS1mMzRjYTE1Y2NmYTQiLCJhdF9oYXNoIjoid1RnSjlaWGF3d2RtZVVzRy1tY2tXdyIsImFjciI6IjEiLCJzaWQiOiI0ZGM1ZDA3Mi0wZjE4LTQwNDctOGQxMS1mMzRjYTE1Y2NmYTQiLCJlbWFpbF92ZXJpZmllZCI6ZmFsc2UsImNsaWVudEhvc3QiOiIxNDguMjUxLjIzNC4xOTQiLCJwcmVmZXJyZWRfdXNlcm5hbWUiOiJzZXJ2aWNlLWFjY291bnQtZ2VwLWVvc3QtYTJzLWhwYy1hcHAiLCJjbGllbnRBZGRyZXNzIjoiMTQ4LjI1MS4yMzQuMTk0IiwiY2xpZW50X2lkIjoiZ2VwLWVvc3QtYTJzLWhwYy1hcHAiLCJwbGF0Zm9ybXMiOnsiZ2VwIjp7ImlkIjoiZ2VwIn19fQ.FjO5gmEAYKKpaovrifhNLvD4U3x4R_u8AVHKWb4qoRD0n6jBEpu01yjH2LoDGke-vgY2IRp28NEzYEGltZtvxy__I7l4RUp6iUtT1xKUm41ABMIWY6iUQZR8D42QZt_V82H3v8i37SDScNU-XwRw4k_0297BwYH5WJIusiCzEoBuQFAy6aS6SxHNSOhtAOREfBv8JKRBkUzW9fwTgpl-Cf-o2-KfhiVqI7MLZ54mKJekCp-RerKqWUlLiBqpAIZFSvsuAAIBBCk-rBCqByXe8BhpbnUsz1PsChiWsOvn-KS9NxBKyEXcQmtT-yoG04Mux0rUEU_0PCBFJYx2jJiY0w',\n",
      "    'not-before-policy': 0,\n",
      "    'refresh_expires_in': 0,\n",
      "    'refresh_token': 'eyJhbGciOiJIUzI1NiIsInR5cCIgOiAiSldUIiwia2lkIiA6ICI2NjNmMDQ3Ni05MWVlLTQyNWYtOTcxYi0yNTYzMjc3MDA1MzAifQ.eyJpYXQiOjE3MTg2MTAzOTEsImp0aSI6ImIwNzVjODE5LTJhNzgtNDY2MC1hMzA4LThiOTc5MzIyNDYwMSIsImlzcyI6Imh0dHBzOi8vaWFtLnRlcnJhZHVlLmNvbS9yZWFsbXMvbWFzdGVyIiwiYXVkIjoiaHR0cHM6Ly9pYW0udGVycmFkdWUuY29tL3JlYWxtcy9tYXN0ZXIiLCJzdWIiOiI1ZTEyZDAxOS1iM2RiLTRhZDgtOTc5Ny1hMDk2Y2NmMWJlZDQiLCJ0eXAiOiJPZmZsaW5lIiwiYXpwIjoiZ2VwLWVvc3QtYTJzLWhwYy1hcHAiLCJzZXNzaW9uX3N0YXRlIjoiNGRjNWQwNzItMGYxOC00MDQ3LThkMTEtZjM0Y2ExNWNjZmE0Iiwic2NvcGUiOiJvZmZsaW5lX2FjY2VzcyBnZXAgZW1haWwgb3BlbmlkIHByb2ZpbGUiLCJzaWQiOiI0ZGM1ZDA3Mi0wZjE4LTQwNDctOGQxMS1mMzRjYTE1Y2NmYTQifQ.TTvgCIzQUxBfhB2fTuSYoDfXO4Dcdydd7yilgO1PTiA',\n",
      "    'scope': 'offline_access gep email openid profile',\n",
      "    'session_state': '4dc5d072-0f18-4047-8d11-f34ca15ccfa4',\n",
      "    'token_type': 'Bearer'}\n"
     ]
    }
   ],
   "source": [
    "from IPython.display import JSON\n",
    "from authlib.jose import jwt\n",
    "import requests\n",
    "\n",
    "\n",
    "pp = pprint.PrettyPrinter(indent=4, width=80, compact=True)\n",
    "\n",
    "# First request an access token from keycloak using the client credentials flow\n",
    "# and use the access token to create an authenticated client\n",
    "# the client will automatically refresh the token when it expires\n",
    "\n",
    "from authlib.oidc.discovery import well_known, OpenIDProviderMetadata\n",
    "t2_oidc_dicovery_url = well_known.get_well_known_url(iam_url, external=True)\n",
    "t2_oidc_dicovery = OpenIDProviderMetadata(requests.get(t2_oidc_dicovery_url, verify=not(localdev)).json())\n",
    "\n",
    "# We will use the public client of Terradue IAM\n",
    "client_id = 'app_client'\n",
    "client_secret = 'app_client_secret'\n",
    "# Scopes requested (the platform related scopes must be set accordingly)\n",
    "scopes = 'openid email profile offline_access' + ' '.join([' {}'.format(s) for s in platform_scopes])\n",
    "\n",
    "# using requests implementation\n",
    "from authlib.integrations.requests_client import OAuth2Session\n",
    "from authlib.common.security import generate_token\n",
    "client = OAuth2Session(client_id, client_secret, scope=scopes)\n",
    "redirect_uri='http://localhost:8888/terrapi/'\n",
    "\n",
    "authorization_endpoint = t2_oidc_dicovery['authorization_endpoint']\n",
    "token_endpoint = t2_oidc_dicovery['token_endpoint']\n",
    "token = client.fetch_token(token_endpoint, grant_type='client_credentials')\n",
    "os.environ['ACCESS_TOKEN'] = token['access_token']\n",
    "os.environ['REFRESH_TOKEN'] = token['refresh_token']\n",
    "pp.pprint(token)"
   ]
  },
  {
   "cell_type": "markdown",
   "metadata": {},
   "source": [
    "Now you usually have an **ACCESS TOKEN** that we will use to make requests to the API. The access token is actually a JWT token that contains the user's information. The token is signed by the server and can be verified by the server. The token is also encrypted so that the user's information is not visible to anyone else.\n",
    "Let's use it to get the user's information."
   ]
  },
  {
   "cell_type": "code",
   "execution_count": 24,
   "metadata": {},
   "outputs": [
    {
     "name": "stdout",
     "output_type": "stream",
     "text": [
      "The response of UserAPI:\n",
      "\n",
      "PrincipalContext(tokens=AccessToken(id='346d7650-a386-49d4-828e-5577d6f8a2ee', principal_id='5e12d019-b3db-4ad8-9797-a096ccf1bed4', token='eyJhbGciOiJSUzI1NiIsInR5cCIgOiAiSldUIiwia2lkIiA6ICJkbmp4eGIyZk0ybE9Tc1RfYS02enktMmNHRVo3SzN1aWYwX2pueGk3akk0In0.eyJleHAiOjE3MTg2MTQwODksImlhdCI6MTcxODYxMDQ4OSwianRpIjoiMzQ2ZDc2NTAtYTM4Ni00OWQ0LTgyOGUtNTU3N2Q2ZjhhMmVlIiwiaXNzIjoiaHR0cHM6Ly9pYW0udGVycmFkdWUuY29tL3JlYWxtcy9tYXN0ZXIiLCJhdWQiOlsiZ2VwLWJpb3MtbWluaW8iLCJhY2NvdW50Il0sInN1YiI6IjVlMTJkMDE5LWIzZGItNGFkOC05Nzk3LWEwOTZjY2YxYmVkNCIsInR5cCI6IkJlYXJlciIsImF6cCI6ImVsbGlwLWJpb3MtYXBpIiwic2Vzc2lvbl9zdGF0ZSI6ImRjZWM3NzZmLTU0MTktNDFiZC1hYTVhLTE0NjdmODEzMTNiNCIsImFsbG93ZWQtb3JpZ2lucyI6WyJodHRwczovL2FwaS50ZXJyYWR1ZS5jb20iXSwicmVzb3VyY2VfYWNjZXNzIjp7ImVsbGlwLWJpb3MtYXBpIjp7InJvbGVzIjpbImdlcC11c2VyIl19fSwic2NvcGUiOiJvcGVuaWQgb2ZmbGluZV9hY2Nlc3MgZ2VwIGVsbGlwIGVtYWlsIHByb2ZpbGUiLCJzaWQiOiJkY2VjNzc2Zi01NDE5LTQxYmQtYWE1YS0xNDY3ZjgxMzEzYjQiLCJlbWFpbF92ZXJpZmllZCI6ZmFsc2UsInByZWZlcnJlZF91c2VybmFtZSI6InNlcnZpY2UtYWNjb3VudC1nZXAtZW9zdC1hMnMtaHBjLWFwcCIsInBsYXRmb3JtcyI6eyJnZXAiOnsiaWQiOiJnZXAifSwiZWxsaXAiOnsiaWQiOiJlbGxpcCJ9fX0.Exou_sor37sukM3MrKzqusH7G2quohkY1xeKx3kFhdlu5DwnAeBOFFGV-o_7zniROmZy3XidScWzn9wnQxSTQ0oDsco7OIRJYIPWtTesxiocwSOEuFyKS0vDUmqCySVC2jE3Y2CNIkDVEx2MO7EwhKQ-it4ot5vlmhMPTFcZputotogOYyIl5uVDZDmJRYE08ye0USPcraHiUuzSRNce-JlQ_4TTLzM79RG_aMTAUk6_gHwqnjKGJbLtOnPeaFmkuWYQKBP_hybOsaDzhiOTgiiJdkz9gsMzNCx3T4_O8_7KxNT44RKuKI--BEF9NK3hkrgmxhDHGrcDfUNHv5j6ig', valid_to=datetime.datetime(2024, 6, 17, 8, 48, 9, tzinfo=TzInfo(UTC)), refresh_token='eyJhbGciOiJIUzI1NiIsInR5cCIgOiAiSldUIiwia2lkIiA6ICI2NjNmMDQ3Ni05MWVlLTQyNWYtOTcxYi0yNTYzMjc3MDA1MzAifQ.eyJpYXQiOjE3MTg2MTA0ODksImp0aSI6ImI4MTMzMjc0LTRjMTgtNDA2My05NGY0LTRjNjVkMDJmMWY2OSIsImlzcyI6Imh0dHBzOi8vaWFtLnRlcnJhZHVlLmNvbS9yZWFsbXMvbWFzdGVyIiwiYXVkIjoiaHR0cHM6Ly9pYW0udGVycmFkdWUuY29tL3JlYWxtcy9tYXN0ZXIiLCJzdWIiOiI1ZTEyZDAxOS1iM2RiLTRhZDgtOTc5Ny1hMDk2Y2NmMWJlZDQiLCJ0eXAiOiJPZmZsaW5lIiwiYXpwIjoiZWxsaXAtYmlvcy1hcGkiLCJzZXNzaW9uX3N0YXRlIjoiZGNlYzc3NmYtNTQxOS00MWJkLWFhNWEtMTQ2N2Y4MTMxM2I0Iiwic2NvcGUiOiJvcGVuaWQgb2ZmbGluZV9hY2Nlc3MgZ2VwIGVsbGlwIGVtYWlsIHByb2ZpbGUiLCJzaWQiOiJkY2VjNzc2Zi01NDE5LTQxYmQtYWE1YS0xNDY3ZjgxMzEzYjQifQ.fe7fSt0_gHPSKGpXhEvc_7nsZx1UI3ZEmKNkFl0FUhY', id_token='eyJhbGciOiJSUzI1NiIsInR5cCIgOiAiSldUIiwia2lkIiA6ICJkbmp4eGIyZk0ybE9Tc1RfYS02enktMmNHRVo3SzN1aWYwX2pueGk3akk0In0.eyJleHAiOjE3MTg2MTQwODksImlhdCI6MTcxODYxMDQ4OSwiYXV0aF90aW1lIjowLCJqdGkiOiJiMTIyYWRmNS01ODc2LTRhZjgtOGZmMC1kZmM2MjQ3MDQ4MDkiLCJpc3MiOiJodHRwczovL2lhbS50ZXJyYWR1ZS5jb20vcmVhbG1zL21hc3RlciIsImF1ZCI6ImVsbGlwLWJpb3MtYXBpIiwic3ViIjoiNWUxMmQwMTktYjNkYi00YWQ4LTk3OTctYTA5NmNjZjFiZWQ0IiwidHlwIjoiSUQiLCJhenAiOiJlbGxpcC1iaW9zLWFwaSIsInNlc3Npb25fc3RhdGUiOiJkY2VjNzc2Zi01NDE5LTQxYmQtYWE1YS0xNDY3ZjgxMzEzYjQiLCJhdF9oYXNoIjoiYjFaTEE5cDlHTEF3ME1jc1VaZlYwUSIsInNpZCI6ImRjZWM3NzZmLTU0MTktNDFiZC1hYTVhLTE0NjdmODEzMTNiNCIsInJlc291cmNlX2FjY2VzcyI6eyJlbGxpcC1iaW9zLWFwaSI6eyJyb2xlcyI6WyJnZXAtdXNlciJdfX0sImVtYWlsX3ZlcmlmaWVkIjpmYWxzZSwicHJlZmVycmVkX3VzZXJuYW1lIjoic2VydmljZS1hY2NvdW50LWdlcC1lb3N0LWEycy1ocGMtYXBwIiwicGxhdGZvcm1zIjp7ImdlcCI6eyJpZCI6ImdlcCJ9LCJlbGxpcCI6eyJpZCI6ImVsbGlwIn19fQ.gkm0RNosnZxYViaOI8MrzQKpdCcSt36_CaBAxy4I_UQS6tF0IhKkWt5HHcgLcYbpvaQwLSni3D4BwoVOATdvqq7iuRqo7I6KqPeH-223gs0fQtkqLJXWtw_D6GHM-OmLUHHUnZ6sXp8iTT36pw21pBqnwnY88nbRgEjzxCu5NCjQ5cDUTxzBaqZDXXZARuywq0udqgo1JKubEZ1aoD1B_fLQ3b1hRFmcVXyYnHjejpjVWo5wnhDQPYbq8FElmOu7-W0AYvLKaS_OzD4sVDOJI4xeXmW4xnNR8hKZy9oOK1ANrbaaBPwllYZhc10qTLoXYCK6y6OvDfPPlB4Jiu1Dcw'), name='service-account-gep-eost-a2s-hpc-app', claims=[ClaimLite(type='exp', value='1718614089'), ClaimLite(type='iat', value='1718610489'), ClaimLite(type='jti', value='346d7650-a386-49d4-828e-5577d6f8a2ee'), ClaimLite(type='iss', value='https://iam.terradue.com/realms/master'), ClaimLite(type='aud', value='gep-bios-minio'), ClaimLite(type='aud', value='account'), ClaimLite(type='sub', value='5e12d019-b3db-4ad8-9797-a096ccf1bed4'), ClaimLite(type='typ', value='Bearer'), ClaimLite(type='azp', value='ellip-bios-api'), ClaimLite(type='session_state', value='dcec776f-5419-41bd-aa5a-1467f81313b4'), ClaimLite(type='allowed-origins', value='https://api.terradue.com'), ClaimLite(type='resource_access', value='{\"ellip-bios-api\":{\"roles\":[\"gep-user\"]}}'), ClaimLite(type='scope', value='openid offline_access gep ellip email profile'), ClaimLite(type='sid', value='dcec776f-5419-41bd-aa5a-1467f81313b4'), ClaimLite(type='email_verified', value='false'), ClaimLite(type='preferred_username', value='service-account-gep-eost-a2s-hpc-app'), ClaimLite(type='platforms', value='{\"gep\":{\"id\":\"gep\"},\"ellip\":{\"id\":\"ellip\"}}'), ClaimLite(type='http://schemas.microsoft.com/ws/2008/06/identity/claims/role', value='gep-user')])\n"
     ]
    }
   ],
   "source": [
    "configuration.access_token = os.environ[\"ACCESS_TOKEN\"]\n",
    "# Enter a context with an instance of the API client\n",
    "with openapi_client.ApiClient(configuration) as api_client:\n",
    "    # Create an instance of the API class\n",
    "    api_instance = openapi_client.UserApi(api_client)\n",
    "    job_id = 'job_id_example' # str | \n",
    "\n",
    "    try:\n",
    "        # Get the user information\n",
    "        userinfo = api_instance.v2_user_info_get()\n",
    "        print(\"The response of UserAPI:\\n\")\n",
    "        pp.pprint(userinfo)\n",
    "    except ApiException as e:\n",
    "        print(\"Exception when calling UserAPI: %s\\n\" % e)\n"
   ]
  },
  {
   "cell_type": "markdown",
   "metadata": {},
   "source": [
    "## List workspaces\n",
    "\n",
    "We will use the access token to get the available workspaces. We will then select a workspace and access it."
   ]
  },
  {
   "cell_type": "code",
   "execution_count": 32,
   "metadata": {},
   "outputs": [
    {
     "name": "stdout",
     "output_type": "stream",
     "text": [
      "SelfInfo(type=<AuthResourceType.URN_COLON_RESOURCE_COLON_STORAGE_COLON_WORKSPACE: 'urn:resource:storage:workspace'>, name='gep-processing-results-a2s-service-workspace', var_self='https://api.terradue.com/core/v2/storage/workspaces/gep-processing-results-a2s-service-workspace')\n",
      "IWorkspace(storage_type=<StorageType.S3: 's3'>, storage_point_uri=None, service_uri=None, initialized=None, end_point='https://s3.gep.terradue.com/', remote_id=None, resource_server=None, owner='ellip-bios-api', type=<AuthResourceType.URN_COLON_RESOURCE_COLON_STORAGE_COLON_WORKSPACE: 'urn:resource:storage:workspace'>, status=IResourceStatus(status_code=<ResourceStatusCode.OK: 'OK'>, message='From Authorization Resource'), resource_uris=['s3://gep-processing-results/a2s/'], scopes=['s3:GetObject', 's3:PutObject', 's3:ListBucket', 's3:DeleteObject', 's3:GetBucketLocation'], properties={'bucket': ['gep-processing-results'], 'storage_type': ['s3'], 'service_url': ['https://s3.gep.terradue.com/'], 'platform_id': ['gep'], 'storage_url': ['s3://gep-processing-results/a2s/'], 'key': ['a2s/'], 'resource_server_id': ['ellip-bios-api']}, platform_id=None, name='gep-processing-results-a2s-service-workspace', var_self='https://api.terradue.com/core/v2/storage/workspaces/gep-processing-results-a2s-service-workspace', background_job_id=None)\n"
     ]
    }
   ],
   "source": [
    "configuration.access_token = os.environ[\"ACCESS_TOKEN\"]\n",
    "# Enter a context with an instance of the API client\n",
    "with openapi_client.ApiClient(configuration) as api_client:\n",
    "    # Create an instance of the API class\n",
    "    api_instance = openapi_client.StorageApi(api_client)\n",
    "\n",
    "    try:\n",
    "        # Get the storage information\n",
    "        workspaces = api_instance.get_workspaces()\n",
    "    except ApiException as e:\n",
    "        print(\"Exception when calling StorageApi: %s\\n\" % e)\n",
    "\n",
    "\n",
    "# We select the service workspace of the current platform\n",
    "# Usually the default workspace is the one with the naming convention <platform>-<username>-private-workspace\n",
    "workspace = next(filter(lambda x:x.name == 'gep-processing-results-a2s-service-workspace',workspaces))\n",
    "\n",
    "pp.pprint(workspace)\n",
    "\n",
    "workspce_info = api_instance.get_workspace_by_id(workspace.name)\n",
    "                                           \n",
    "pp.pprint(workspce_info)"
   ]
  },
  {
   "cell_type": "markdown",
   "metadata": {},
   "source": [
    "## Get a Security Token to access the workspace\n",
    "\n",
    "In order to access the workspace via the storage provider, we need to get a security token. The security token is a set of credentials generated signed by the API and that can be verified by the storage provider."
   ]
  },
  {
   "cell_type": "code",
   "execution_count": 35,
   "metadata": {},
   "outputs": [
    {
     "name": "stdout",
     "output_type": "stream",
     "text": [
      "StsStorage(storage=IStoragePoint(storage_type=<StorageType.S3: 's3'>, storage_point_uri=None, service_uri=None, initialized=None, end_point='https://s3.gep.terradue.com/', remote_id=None, resource_server=None, owner='ellip-bios-api', type=<AuthResourceType.URN_COLON_RESOURCE_COLON_STORAGE_COLON_WORKSPACE: 'urn:resource:storage:workspace'>, status=IResourceStatus(status_code=<ResourceStatusCode.OK: 'OK'>, message='From Authorization Resource'), resource_uris=['s3://gep-processing-results/a2s/'], scopes=['s3:GetObject', 's3:PutObject', 's3:ListBucket', 's3:DeleteObject', 's3:GetBucketLocation'], properties={'bucket': ['gep-processing-results'], 'storage_type': ['s3'], 'service_url': ['https://s3.gep.terradue.com/'], 'platform_id': ['gep'], 'storage_url': ['s3://gep-processing-results/a2s/'], 'key': ['a2s/'], 'resource_server_id': ['ellip-bios-api']}, platform_id=None, name='gep-processing-results-a2s-service-workspace', var_self=None), credentials=IStorageSTS(access_key='IBASGDXIT3WV3VBAYOAK', secret_key='+p7NTaXt3+4rr0sFmO8kzSEDri0BzMYqwQ5WhZ2B', use_token=True, token='eyJhbGciOiJIUzUxMiIsInR5cCI6IkpXVCJ9.eyJhY2Nlc3NLZXkiOiJJQkFTR0RYSVQzV1YzVkJBWU9BSyIsImFsbG93ZWQtb3JpZ2lucyI6WyJodHRwczovL2FwaS50ZXJyYWR1ZS5jb20iXSwiYXVkIjpbImdlcC1iaW9zLW1pbmlvIiwiYWNjb3VudCJdLCJhenAiOiJlbGxpcC1iaW9zLWFwaSIsImVtYWlsX3ZlcmlmaWVkIjpmYWxzZSwiZXhwIjoxNzE4NjEzMjA0LCJpYXQiOjE3MTg2MTIzMDQsImlzcyI6Imh0dHBzOi8vaWFtLnRlcnJhZHVlLmNvbS9yZWFsbXMvbWFzdGVyIiwianRpIjoiODY0Y2MwMWYtMGNiMC00OGUwLTgwZDYtNzhlNzFhM2E3ZGU5IiwibWluaW9fcG9saWN5IjoiZ2VwLXByb2Nlc3NpbmctcmVzdWx0cy1hMnMtc2VydmljZS13b3Jrc3BhY2UtbWFuYWdlci51c2VyLmZyb20taWFtLHNoYXJlZC13aXRoLXBsYXRmb3JtLWdlcC5wbGF0Zm9ybS5mcm9tLWlhbSIsInBsYXRmb3JtcyI6eyJlbGxpcCI6eyJpZCI6ImVsbGlwIn0sImdlcCI6eyJpZCI6ImdlcCJ9fSwicHJlZmVycmVkX3VzZXJuYW1lIjoic2VydmljZS1hY2NvdW50LWdlcC1lb3N0LWEycy1ocGMtYXBwIiwicmVzb3VyY2VfYWNjZXNzIjp7ImVsbGlwLWJpb3MtYXBpIjp7InJvbGVzIjpbImdlcC11c2VyIl19fSwic2NvcGUiOiJvcGVuaWQgb2ZmbGluZV9hY2Nlc3MgZ2VwIGVsbGlwIGVtYWlsIHByb2ZpbGUiLCJzZXNzaW9uX3N0YXRlIjoiZjkxZjk0MGMtZGNmZC00MjFjLTgxMjgtNGIyNzg5NTM1NGY2Iiwic2lkIjoiZjkxZjk0MGMtZGNmZC00MjFjLTgxMjgtNGIyNzg5NTM1NGY2Iiwic3ViIjoiNWUxMmQwMTktYjNkYi00YWQ4LTk3OTctYTA5NmNjZjFiZWQ0IiwidHlwIjoiQmVhcmVyIn0.eOyhAdKG1gR30wG-UMShtl9_xEuD2TGK1b97hMgtBFqKaMJyzYbMBl58rD9cYO5KWMREezm4_iNZER00550Akw', expiration=datetime.datetime(2024, 6, 17, 8, 33, 24, tzinfo=TzInfo(UTC))))\n"
     ]
    }
   ],
   "source": [
    "configuration.access_token = os.environ[\"ACCESS_TOKEN\"]\n",
    "# Enter a context with an instance of the API client\n",
    "with openapi_client.ApiClient(configuration) as api_client:\n",
    "    # Create an instance of the API class\n",
    "    api_instance = openapi_client.StorageApi(api_client)\n",
    "\n",
    "    try:\n",
    "        # Request a security token to access the workspace\n",
    "        token = api_instance.get_storage_sts(workspace.name)\n",
    "    except ApiException as e:\n",
    "        print(\"Exception when calling StorageApi: %s\\n\" % e)\n",
    "        \n",
    "pp.pprint(token)"
   ]
  },
  {
   "cell_type": "markdown",
   "metadata": {},
   "source": [
    "## Access the workspace using the token\n",
    "\n",
    "We will use the security token to access the workspace and upload a file. All the information about the storage access and credentials are contained in the security token.\n",
    "In this case, it is a S3 storage provider, so we will use the `boto3` library to access the workspace using the parameters in the security token."
   ]
  },
  {
   "cell_type": "code",
   "execution_count": 34,
   "metadata": {},
   "outputs": [
    {
     "name": "stdout",
     "output_type": "stream",
     "text": [
      "None\n",
      "{   'bucket': ['gep-processing-results'],\n",
      "    'key': ['a2s/'],\n",
      "    'platform_id': ['gep'],\n",
      "    'resource_server_id': ['ellip-bios-api'],\n",
      "    'service_url': ['https://s3.gep.terradue.com/'],\n",
      "    'storage_type': ['s3'],\n",
      "    'storage_url': ['s3://gep-processing-results/a2s/']}\n",
      "'eyJhbGciOiJIUzUxMiIsInR5cCI6IkpXVCJ9.eyJhY2Nlc3NLZXkiOiIyQ1E4NFo5QUVBSTRVNVoxRFRYWCIsImFsbG93ZWQtb3JpZ2lucyI6WyJodHRwczovL2FwaS50ZXJyYWR1ZS5jb20iXSwiYXVkIjpbImdlcC1iaW9zLW1pbmlvIiwiYWNjb3VudCJdLCJhenAiOiJlbGxpcC1iaW9zLWFwaSIsImVtYWlsX3ZlcmlmaWVkIjpmYWxzZSwiZXhwIjoxNzE4NjEzMTUxLCJpYXQiOjE3MTg2MTIyNTEsImlzcyI6Imh0dHBzOi8vaWFtLnRlcnJhZHVlLmNvbS9yZWFsbXMvbWFzdGVyIiwianRpIjoiMGYwODY1NjgtOTAzYi00YjNhLTljZmUtNDUyMzE0ZjIxYTQ5IiwibWluaW9fcG9saWN5IjoiZ2VwLXByb2Nlc3NpbmctcmVzdWx0cy1hMnMtc2VydmljZS13b3Jrc3BhY2UtbWFuYWdlci51c2VyLmZyb20taWFtLHNoYXJlZC13aXRoLXBsYXRmb3JtLWdlcC5wbGF0Zm9ybS5mcm9tLWlhbSIsInBsYXRmb3JtcyI6eyJlbGxpcCI6eyJpZCI6ImVsbGlwIn0sImdlcCI6eyJpZCI6ImdlcCJ9fSwicHJlZmVycmVkX3VzZXJuYW1lIjoic2VydmljZS1hY2NvdW50LWdlcC1lb3N0LWEycy1ocGMtYXBwIiwicmVzb3VyY2VfYWNjZXNzIjp7ImVsbGlwLWJpb3MtYXBpIjp7InJvbGVzIjpbImdlcC11c2VyIl19fSwic2NvcGUiOiJvcGVuaWQgb2ZmbGluZV9hY2Nlc3MgZ2VwIGVsbGlwIGVtYWlsIHByb2ZpbGUiLCJzZXNzaW9uX3N0YXRlIjoiYTUyNmI2YjAtMWQ1MS00ZGM2LWE4YjEtNDZhOTMyMTAyOTQ1Iiwic2lkIjoiYTUyNmI2YjAtMWQ1MS00ZGM2LWE4YjEtNDZhOTMyMTAyOTQ1Iiwic3ViIjoiNWUxMmQwMTktYjNkYi00YWQ4LTk3OTctYTA5NmNjZjFiZWQ0IiwidHlwIjoiQmVhcmVyIn0.dyCoFqEjXdJKRsez4D9MA2-eHBhV75wWJjTO2kJ3D0ocHvvMcoTB5He8X7InIbND5nMZeVLAS_z82HWxnUQzUA'\n",
      "{   'Delimiter': '',\n",
      "    'EncodingType': 'url',\n",
      "    'IsTruncated': False,\n",
      "    'KeyCount': 0,\n",
      "    'MaxKeys': 1000,\n",
      "    'Name': 'gep-processing-results',\n",
      "    'Prefix': 'a2s/',\n",
      "    'ResponseMetadata': {   'HTTPHeaders': {   'accept-ranges': 'bytes',\n",
      "                                               'connection': 'keep-alive',\n",
      "                                               'content-length': '312',\n",
      "                                               'content-security-policy': 'block-all-mixed-content',\n",
      "                                               'content-type': 'application/xml',\n",
      "                                               'date': 'Mon, 17 Jun 2024 '\n",
      "                                                       '08:17:40 GMT',\n",
      "                                               'strict-transport-security': 'max-age=15724800; '\n",
      "                                                                            'includeSubDomains',\n",
      "                                               'vary': 'Origin, '\n",
      "                                                       'Accept-Encoding',\n",
      "                                               'x-amz-bucket-region': 'fr-par',\n",
      "                                               'x-amz-request-id': '17D9BCBEB65203E3',\n",
      "                                               'x-content-type-options': 'nosniff',\n",
      "                                               'x-xss-protection': '1; '\n",
      "                                                                   'mode=block'},\n",
      "                            'HTTPStatusCode': 200,\n",
      "                            'HostId': '',\n",
      "                            'RequestId': '17D9BCBEB65203E3',\n",
      "                            'RetryAttempts': 1}}\n"
     ]
    }
   ],
   "source": [
    "import boto3\n",
    "import boto3.session\n",
    "\n",
    "## Create a S3 session with the service URL and the security token\n",
    "session = boto3.session.Session(aws_access_key_id=token.credentials.access_key, \n",
    "                                aws_secret_access_key=token.credentials.secret_key, \n",
    "                                aws_session_token=token.credentials.token,\n",
    "                                region_name=token.storage.properties.__contains__('region') and token.storage.properties['region'][0] or 'us-east-1')\n",
    "\n",
    "## Create a S3 client with the service URL and the security token\n",
    "s3 = session.client('s3', endpoint_url=token.storage.properties['service_url'][0], verify=not(localdev))\n",
    "\n",
    "pp.pprint(token.storage.service_uri)\n",
    "pp.pprint(token.storage.properties)\n",
    "pp.pprint(token.credentials.token)\n",
    "\n",
    "## List the content of the workspace\n",
    "response = s3.list_objects_v2(Bucket=token.storage.properties['bucket'][0], Prefix=token.storage.properties['key'][0])\n",
    "pp.pprint(response)"
   ]
  }
 ],
 "metadata": {
  "kernelspec": {
   "display_name": ".venv",
   "language": "python",
   "name": "python3"
  },
  "language_info": {
   "codemirror_mode": {
    "name": "ipython",
    "version": 3
   },
   "file_extension": ".py",
   "mimetype": "text/x-python",
   "name": "python",
   "nbconvert_exporter": "python",
   "pygments_lexer": "ipython3",
   "version": "3.11.6"
  }
 },
 "nbformat": 4,
 "nbformat_minor": 2
}
